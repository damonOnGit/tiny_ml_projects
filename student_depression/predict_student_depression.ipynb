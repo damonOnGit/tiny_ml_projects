{
 "cells": [
  {
   "cell_type": "markdown",
   "metadata": {},
   "source": [
    "Logistic Regression"
   ]
  },
  {
   "cell_type": "code",
   "execution_count": null,
   "metadata": {},
   "outputs": [
    {
     "name": "stdout",
     "output_type": "stream",
     "text": [
      "Accuracy: 0.8449820788530465\n",
      "Classification Report:\n",
      "              precision    recall  f1-score   support\n",
      "\n",
      "           0       0.84      0.78      0.81      2348\n",
      "           1       0.85      0.89      0.87      3232\n",
      "\n",
      "    accuracy                           0.84      5580\n",
      "   macro avg       0.84      0.84      0.84      5580\n",
      "weighted avg       0.84      0.84      0.84      5580\n",
      "\n"
     ]
    }
   ],
   "source": [
    "import pandas as pd\n",
    "from sklearn.model_selection import train_test_split\n",
    "from sklearn.preprocessing import StandardScaler, LabelEncoder\n",
    "from sklearn.linear_model import LogisticRegression\n",
    "from sklearn.metrics import classification_report, accuracy_score\n",
    "\n",
    "# Load the dataset (you would replace this with your actual dataset)\n",
    "df = pd.read_csv(\"./student_depression_dataset.csv\")\n",
    "\n",
    "# Preprocessing\n",
    "# Handle missing values (if any)\n",
    "df['Financial Stress'] = pd.to_numeric(df['Financial Stress'], errors='coerce')\n",
    "df = df.dropna()\n",
    "\n",
    "# Encoding categorical columns (Gender, City, Degree, etc.)\n",
    "label_encoder = LabelEncoder()\n",
    "df['Gender'] = label_encoder.fit_transform(df['Gender'])\n",
    "df['City'] = label_encoder.fit_transform(df['City'])\n",
    "df['Degree'] = label_encoder.fit_transform(df['Degree'])\n",
    "df['Profession'] = label_encoder.fit_transform(df['Profession'])\n",
    "df['Sleep Duration'] = label_encoder.fit_transform(df['Sleep Duration'])\n",
    "df['Dietary Habits'] = label_encoder.fit_transform(df['Dietary Habits'])\n",
    "df['Have you ever had suicidal thoughts ?'] = label_encoder.fit_transform(df['Have you ever had suicidal thoughts ?'])\n",
    "df['Family History of Mental Illness'] = label_encoder.fit_transform(df['Family History of Mental Illness'])\n",
    "\n",
    "# Feature and target variables\n",
    "X = df.drop(['Depression', 'id'], axis=1)  # Dropping target column and any non-useful column (like 'id')\n",
    "y = df['Depression']\n",
    "\n",
    "# Split the data into training and testing sets\n",
    "X_train, X_test, y_train, y_test = train_test_split(X, y, test_size=0.2, random_state=42)\n",
    "\n",
    "# Feature Scaling\n",
    "scaler = StandardScaler()\n",
    "X_train = scaler.fit_transform(X_train)\n",
    "X_test = scaler.transform(X_test)\n",
    "\n",
    "# Train a Logistic Regression model\n",
    "model = LogisticRegression()\n",
    "model.fit(X_train, y_train)\n",
    "\n",
    "# Predictions\n",
    "y_pred = model.predict(X_test)\n",
    "\n",
    "# Evaluate the model\n",
    "print(\"Accuracy:\", accuracy_score(y_test, y_pred))\n",
    "print(\"Classification Report:\")\n",
    "print(classification_report(y_test, y_pred))\n"
   ]
  }
 ],
 "metadata": {
  "kernelspec": {
   "display_name": "venv",
   "language": "python",
   "name": "python3"
  },
  "language_info": {
   "codemirror_mode": {
    "name": "ipython",
    "version": 3
   },
   "file_extension": ".py",
   "mimetype": "text/x-python",
   "name": "python",
   "nbconvert_exporter": "python",
   "pygments_lexer": "ipython3",
   "version": "3.10.11"
  }
 },
 "nbformat": 4,
 "nbformat_minor": 2
}
